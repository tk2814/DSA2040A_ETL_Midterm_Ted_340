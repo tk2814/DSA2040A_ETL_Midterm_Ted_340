{
 "cells": [
  {
   "cell_type": "markdown",
   "id": "40d0eac8",
   "metadata": {},
   "source": [
    "# MIDSEM EXAM"
   ]
  },
  {
   "cell_type": "markdown",
   "id": "11d6ddaf",
   "metadata": {},
   "source": [
    "## 2. TRANSFORM"
   ]
  },
  {
   "cell_type": "code",
   "execution_count": 18,
   "id": "0c5bc00f",
   "metadata": {},
   "outputs": [
    {
     "name": "stdout",
     "output_type": "stream",
     "text": [
      "Preview of Raw Dataset\n",
      "   order_id customer_name product  quantity  unit_price order_date region  \\\n",
      "0         1         Diana  Tablet       0.0   500.00000 2024-01-20  South   \n",
      "1         2           Eve  Laptop       0.0   496.09375 2024-04-29  North   \n",
      "2         3       Charlie  Laptop       2.0   250.00000 2024-01-08    NaN   \n",
      "3         4           Eve  Laptop       2.0   750.00000 2024-01-07   West   \n",
      "4         5           Eve  Tablet       3.0   496.09375 2024-03-07  South   \n",
      "\n",
      "   total_price customer tier  \n",
      "0      0.00000           NaN  \n",
      "1      0.00000           NaN  \n",
      "2    500.00000        Silver  \n",
      "3   1500.00000      Platinum  \n",
      "4   1488.28125      Platinum  \n",
      "\n",
      "Preview of Incremental Dataset\n",
      "   order_id customer_name product  quantity  unit_price order_date   region  \\\n",
      "0       101         Alice  Laptop       0.0       900.0 2024-05-09  Central   \n",
      "1       102       Unknown  Laptop       1.0       300.0 2024-05-07  Central   \n",
      "2       103       Unknown  Laptop       1.0       600.0 2024-05-04  Central   \n",
      "3       104       Unknown  Tablet       0.0       300.0 2024-05-26  Central   \n",
      "4       105         Heidi  Tablet       2.0       600.0 2024-05-21    North   \n",
      "\n",
      "   total_price customer tier  \n",
      "0          0.0           NaN  \n",
      "1        300.0        Silver  \n",
      "2        600.0          Gold  \n",
      "3          0.0           NaN  \n",
      "4       1200.0      Platinum  \n"
     ]
    }
   ],
   "source": [
    "\n",
    "import pandas as pd\n",
    "\n",
    "# Loading the datasets\n",
    "raw_df = pd.read_csv(\"data/raw_data.csv\")\n",
    "inc_df = pd.read_csv(\"data/incremental_data.csv\")\n",
    "\n",
    "#  Drop duplicates in Raw dataset\n",
    "raw_df = raw_df.drop_duplicates()\n",
    "\n",
    "# Drop duplicates in Incremental dataset\n",
    "inc_df = inc_df.drop_duplicates()\n",
    "\n",
    "# Filleing missing values in raw dataset\n",
    "raw_df['quantity'] = raw_df['quantity'].fillna(0)\n",
    "raw_df['unit_price'] = raw_df['unit_price'].fillna(raw_df['unit_price'].mean())\n",
    "raw_df['customer_name'] = raw_df['customer_name'].fillna(\"Unknown\")\n",
    "raw_df['product'] = raw_df['product'].fillna(\"Unknown\")\n",
    "raw_df['order_date'] = pd.to_datetime(raw_df['order_date'], errors='coerce')\n",
    "raw_df['order_date'] = raw_df['order_date'].fillna(pd.Timestamp(\"2023-01-01\"))\n",
    "\n",
    "# Filling missing values in incremental dataset\n",
    "inc_df['quantity'] = inc_df['quantity'].fillna(0)\n",
    "inc_df['unit_price'] = inc_df['unit_price'].fillna(inc_df['unit_price'].mean())\n",
    "inc_df['customer_name'] = inc_df['customer_name'].fillna(\"Unknown\")\n",
    "inc_df['product'] = inc_df['product'].fillna(\"Unknown\")\n",
    "inc_df['order_date'] = pd.to_datetime(inc_df['order_date'], errors='coerce')\n",
    "inc_df['order_date'] = inc_df['order_date'].fillna(pd.Timestamp(\"2023-01-01\"))\n",
    "\n",
    "\n",
    "# Converting data column to datetime format for both datasets\n",
    "raw_df['order_date'] = pd.to_datetime(raw_df['order_date'])\n",
    "inc_df['order_date'] = pd.to_datetime(inc_df['order_date'])\n",
    "\n",
    "# Creating total price column for both datasets\n",
    "raw_df['total_price'] = raw_df['quantity'] * raw_df['unit_price']\n",
    "inc_df['total_price'] = inc_df['quantity'] * inc_df['unit_price']\n",
    "\n",
    "# Creating customer tiers\n",
    "raw_df['customer tier'] = pd.cut(raw_df['total_price'],\n",
    "                        bins=[0, 100, 500, 1000, float('inf')],\n",
    "                        labels=['Bronze', 'Silver', 'Gold', 'Platinum'])\n",
    "\n",
    "inc_df['customer tier'] = pd.cut(inc_df['total_price'],\n",
    "                         bins=[0, 100, 500, 1000, float('inf')],\n",
    "                         labels=['Bronze', 'Silver', 'Gold', 'Platinum'])\n",
    "\n",
    "\n",
    "# Saving to files\n",
    "raw_df.to_csv(\"transformed/transformed_full.csv\", index=False)\n",
    "inc_df.to_csv(\"transformed/transformed_incremental.csv\", index=False)\n",
    "\n",
    "# Preview of raw dataset after transformation\n",
    "print(\"Preview of Raw Dataset\")\n",
    "print(raw_df.head())\n",
    "# Preview of incremental datatset after transformation\n",
    "print(\"\\nPreview of Incremental Dataset\")\n",
    "print(inc_df.head())\n",
    "\n",
    "\n",
    "\n",
    "\n",
    "\n"
   ]
  }
 ],
 "metadata": {
  "kernelspec": {
   "display_name": "Python 3",
   "language": "python",
   "name": "python3"
  },
  "language_info": {
   "codemirror_mode": {
    "name": "ipython",
    "version": 3
   },
   "file_extension": ".py",
   "mimetype": "text/x-python",
   "name": "python",
   "nbconvert_exporter": "python",
   "pygments_lexer": "ipython3",
   "version": "3.13.5"
  }
 },
 "nbformat": 4,
 "nbformat_minor": 5
}
