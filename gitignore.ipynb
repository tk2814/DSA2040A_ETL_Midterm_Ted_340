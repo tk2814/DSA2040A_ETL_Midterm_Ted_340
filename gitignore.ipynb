{
 "cells": [
  {
   "cell_type": "markdown",
   "id": "7d8784d6",
   "metadata": {},
   "source": [
    "\n",
    "# .gitignore for ETL_Midterm_Ted_340\n",
    "\n",
    "\n",
    "#  Jupyter notebook checkpoints\n",
    ".ipynb_checkpoints/\n",
    "\n",
    "# Python cache\n",
    "__pycache__/\n",
    "*.pyc\n",
    "*.pyo\n",
    "\n",
    "# System files\n",
    ".DS_Store\n",
    "Thumbs.db\n",
    "\n",
    "\n",
    "#  Virtual envs and logs (if any used)\n",
    "*.env\n",
    "*.log\n",
    "\n",
    "#  Optional: Ignore backup files\n",
    "*.bak\n",
    "*.tmp\n"
   ]
  }
 ],
 "metadata": {
  "language_info": {
   "name": "python"
  }
 },
 "nbformat": 4,
 "nbformat_minor": 5
}
